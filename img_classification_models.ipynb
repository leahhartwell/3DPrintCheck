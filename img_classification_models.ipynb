{
 "cells": [
  {
   "cell_type": "code",
   "execution_count": 1,
   "metadata": {},
   "outputs": [],
   "source": [
    "import os\n",
    "from sklearn.model_selection import train_test_split\n",
    "import matplotlib.pyplot as plt\n",
    "import numpy as np #downgrade to V1.18.5\n",
    "from tensorflow.keras import Input\n",
    "from tensorflow.keras.models import Model, load_model\n",
    "from tensorflow.keras.layers import Dense, TimeDistributed, Dropout, Bidirectional, GRU, BatchNormalization, Activation, LeakyReLU, \\\n",
    "    LSTM, Flatten, RepeatVector, Permute, Multiply, Conv2D, MaxPooling2D\n",
    "import tensorflow as tf\n",
    "import datetime\n",
    "import h5py # saves np arrays\n",
    "\n",
    "#CPU Only\n",
    "# os.environ[\"CUDA_VISIBLE_DEVICES\"] = \"-1\"\n",
    "#GPU\n",
    "physical_devices = tf.config.list_physical_devices(\"GPU\")\n",
    "tf.config.experimental.set_memory_growth(physical_devices[0], True)\n",
    "\n",
    "%load_ext tensorboard"
   ]
  },
  {
   "cell_type": "code",
   "execution_count": 2,
   "metadata": {},
   "outputs": [
    {
     "name": "stdout",
     "output_type": "stream",
     "text": [
      "(476, 480, 640, 1)\n",
      "(476, 2)\n"
     ]
    }
   ],
   "source": [
    "# load datasets back into arrays\n",
    "#dataset_1 = h5py.File('./dataset_1_orig.hdf5', 'r')\n",
    "#dataset_1 = h5py.File('./dataset_1_scaled_255.hdf5', 'r')\n",
    "dataset_1 = h5py.File('./dataset_1_grey.hdf5', 'r')\n",
    "X = dataset_1.get('X')\n",
    "X = np.array(X)\n",
    "y = dataset_1.get('y')\n",
    "y = np.array(y)\n",
    "print(X.shape)\n",
    "print(y.shape)\n",
    "dataset_1.close()"
   ]
  },
  {
   "cell_type": "code",
   "execution_count": 3,
   "metadata": {},
   "outputs": [
    {
     "name": "stdout",
     "output_type": "stream",
     "text": [
      "(357, 480, 640, 1)\n",
      "(119, 480, 640, 1)\n",
      "(357, 2)\n",
      "(119, 2)\n"
     ]
    }
   ],
   "source": [
    "#splits dataset into train and test sets\n",
    "X_train, X_test, y_train, y_test = train_test_split(X, y, test_size=0.25, random_state=42)\n",
    "print(X_train.shape)\n",
    "print(X_test.shape)\n",
    "print(y_train.shape)\n",
    "print(y_test.shape)"
   ]
  },
  {
   "cell_type": "code",
   "execution_count": 4,
   "metadata": {},
   "outputs": [
    {
     "name": "stdout",
     "output_type": "stream",
     "text": [
      "Model: \"functional_1\"\n",
      "_________________________________________________________________\n",
      "Layer (type)                 Output Shape              Param #   \n",
      "=================================================================\n",
      "input_1 (InputLayer)         [(None, 480, 640, 3)]     0         \n",
      "_________________________________________________________________\n",
      "conv2d (Conv2D)              (None, 480, 640, 32)      896       \n",
      "_________________________________________________________________\n",
      "max_pooling2d (MaxPooling2D) (None, 240, 320, 32)      0         \n",
      "_________________________________________________________________\n",
      "dropout (Dropout)            (None, 240, 320, 32)      0         \n",
      "_________________________________________________________________\n",
      "flatten (Flatten)            (None, 2457600)           0         \n",
      "_________________________________________________________________\n",
      "dense (Dense)                (None, 64)                157286464 \n",
      "_________________________________________________________________\n",
      "dense_1 (Dense)              (None, 2)                 130       \n",
      "=================================================================\n",
      "Total params: 157,287,490\n",
      "Trainable params: 157,287,490\n",
      "Non-trainable params: 0\n",
      "_________________________________________________________________\n"
     ]
    }
   ],
   "source": [
    "# model_1\n",
    "ip = Input(shape=X_train[0].shape)\n",
    "m = Conv2D(32, kernel_size=(3, 3), activation='relu', padding='same')(ip)\n",
    "m = MaxPooling2D(pool_size=(2, 2))(m)\n",
    "m = Dropout(0.25)(m)\n",
    "#m = Dropout(0.3)(m)\n",
    "m = Flatten()(m)\n",
    "m = Dense(64, activation='relu')(m)\n",
    "op = Dense(2, activation='softmax')(m)\n",
    "model = Model(ip, op)\n",
    "model.summary()"
   ]
  },
  {
   "cell_type": "code",
   "execution_count": 4,
   "metadata": {},
   "outputs": [
    {
     "name": "stdout",
     "output_type": "stream",
     "text": [
      "Model: \"functional_1\"\n",
      "_________________________________________________________________\n",
      "Layer (type)                 Output Shape              Param #   \n",
      "=================================================================\n",
      "input_1 (InputLayer)         [(None, 480, 640, 1)]     0         \n",
      "_________________________________________________________________\n",
      "conv2d (Conv2D)              (None, 480, 640, 32)      320       \n",
      "_________________________________________________________________\n",
      "conv2d_1 (Conv2D)            (None, 480, 640, 64)      18496     \n",
      "_________________________________________________________________\n",
      "max_pooling2d (MaxPooling2D) (None, 240, 320, 64)      0         \n",
      "_________________________________________________________________\n",
      "dropout (Dropout)            (None, 240, 320, 64)      0         \n",
      "_________________________________________________________________\n",
      "flatten (Flatten)            (None, 4915200)           0         \n",
      "_________________________________________________________________\n",
      "dense (Dense)                (None, 64)                314572864 \n",
      "_________________________________________________________________\n",
      "dropout_1 (Dropout)          (None, 64)                0         \n",
      "_________________________________________________________________\n",
      "dense_1 (Dense)              (None, 2)                 130       \n",
      "=================================================================\n",
      "Total params: 314,591,810\n",
      "Trainable params: 314,591,810\n",
      "Non-trainable params: 0\n",
      "_________________________________________________________________\n"
     ]
    }
   ],
   "source": [
    "# https://medium.com/x8-the-ai-community/audio-classification-using-cnn-coding-example-f9cbd272269e\n",
    "# model_2: from medium article with a few tweeks, worked well but is a pretty large nn for our applications\n",
    "ip = Input(shape=X_train[0].shape)\n",
    "m = Conv2D(32, kernel_size=(3, 3), activation='relu', padding='same')(ip)\n",
    "m = Conv2D(64, kernel_size=(3, 3), activation='relu', padding='same')(m)\n",
    "m = MaxPooling2D(pool_size=(2, 2))(m)\n",
    "m = Dropout(0.25)(m)\n",
    "m = Flatten()(m)\n",
    "#m = Dense(32, activation='relu')(m)\n",
    "m = Dense(64, activation='relu')(m)\n",
    "#m = Dropout(0.5)(m)\n",
    "m = Dropout(0.3)(m)\n",
    "op = Dense(2, activation='softmax')(m)\n",
    "model = Model(ip, op)\n",
    "model.summary()"
   ]
  },
  {
   "cell_type": "code",
   "execution_count": null,
   "metadata": {},
   "outputs": [
    {
     "name": "stdout",
     "output_type": "stream",
     "text": [
      "Epoch 1/30\n",
      " 1/90 [..............................] - ETA: 0s - loss: 2.4600 - accuracy: 0.5000WARNING:tensorflow:From C:\\Users\\hartw\\anaconda3\\envs\\tf\\lib\\site-packages\\tensorflow\\python\\ops\\summary_ops_v2.py:1277: stop (from tensorflow.python.eager.profiler) is deprecated and will be removed after 2020-07-01.\n",
      "Instructions for updating:\n",
      "use `tf.profiler.experimental.stop` instead.\n",
      " 2/90 [..............................] - ETA: 7s - loss: 6.3194 - accuracy: 0.6250WARNING:tensorflow:Callbacks method `on_train_batch_end` is slow compared to the batch time (batch time: 0.0350s vs `on_train_batch_end` time: 0.1271s). Check your callbacks.\n",
      "90/90 [==============================] - 30s 337ms/step - loss: 250.4651 - accuracy: 0.5434 - val_loss: 3.7083 - val_accuracy: 0.5546\n",
      "Epoch 2/30\n",
      "90/90 [==============================] - 31s 346ms/step - loss: 1.1546 - accuracy: 0.6050 - val_loss: 0.6372 - val_accuracy: 0.5294\n",
      "Epoch 3/30\n",
      "90/90 [==============================] - 31s 344ms/step - loss: 0.6670 - accuracy: 0.6106 - val_loss: 0.6188 - val_accuracy: 0.5294\n",
      "Epoch 4/30\n",
      "90/90 [==============================] - 44s 492ms/step - loss: 1.6356 - accuracy: 0.5994 - val_loss: 0.6340 - val_accuracy: 0.5294\n",
      "Epoch 5/30\n",
      "89/90 [============================>.] - ETA: 0s - loss: 0.5797 - accuracy: 0.6208"
     ]
    }
   ],
   "source": [
    "# compiling/training model\n",
    "opt = tf.keras.optimizers.Adam(learning_rate=0.0001)\n",
    "model.compile(loss='categorical_crossentropy',\n",
    "              optimizer=opt,\n",
    "              metrics=['accuracy'])\n",
    "\n",
    "logdir = os.path.join(\"logs\", datetime.datetime.now().strftime(\"%Y%m%d-%H%M%S\"))\n",
    "tensorboard_callback = tf.keras.callbacks.TensorBoard(logdir, histogram_freq=1)\n",
    "\n",
    "history = model.fit(X_train,\n",
    "          y_train,\n",
    "          epochs=30,\n",
    "          batch_size=4,\n",
    "          verbose=1,\n",
    "          validation_data=(X_test, y_test), callbacks=[tensorboard_callback])\n",
    "\n",
    "model.save('./models/model_2a_grey.h5')\n",
    "\n",
    "# model_1a_orig.h5 <-- 68.18% (opt=adam, learning_rate=0.0001, epochs=30, batch_size=4)\n",
    "# model_1a_scaled_255.h5 <-- 62.18% (opt=adam, learning_rate=0.0001, epochs=30, batch_size=4)\n",
    "# model_1a_grey.h5 <-- 66.39% (opt=adam, learning_rate=0.0001, epochs=30, batch_size=4)"
   ]
  },
  {
   "cell_type": "code",
   "execution_count": 6,
   "metadata": {},
   "outputs": [
    {
     "data": {
      "image/png": "[encoded data removed]",
      "text/plain": [
       "<Figure size 432x288 with 1 Axes>"
      ]
     },
     "metadata": {
      "needs_background": "light"
     },
     "output_type": "display_data"
    }
   ],
   "source": [
    "plt.plot(history.history['accuracy'], label='Train Accuracy')\n",
    "plt.plot(history.history['val_accuracy'], label='Validation Accuracy')\n",
    "plt.xlabel('Epochs')\n",
    "plt.ylabel('Accuracy')\n",
    "plt.legend()\n",
    "plt.savefig('model_plots/model_2a_grey_accuracy')"
   ]
  },
  {
   "cell_type": "code",
   "execution_count": 7,
   "metadata": {},
   "outputs": [
    {
     "data": {
      "image/png": "[encoded data removed]",
      "text/plain": [
       "<Figure size 432x288 with 1 Axes>"
      ]
     },
     "metadata": {
      "needs_background": "light"
     },
     "output_type": "display_data"
    }
   ],
   "source": [
    "plt.plot(history.history['loss'], label='Train Loss')\n",
    "plt.plot(history.history['val_loss'], label='Validation Loss')\n",
    "plt.xlabel('Epochs')\n",
    "plt.ylabel('Accuracy')\n",
    "plt.legend()\n",
    "plt.savefig('model_plots/model_2a_grey_loss')"
   ]
  },
  {
   "cell_type": "code",
   "execution_count": null,
   "metadata": {},
   "outputs": [],
   "source": []
  }
 ],
 "metadata": {
  "kernelspec": {
   "display_name": "Python 3",
   "language": "python",
   "name": "python3"
  },
  "language_info": {
   "codemirror_mode": {
    "name": "ipython",
    "version": 3
   },
   "file_extension": ".py",
   "mimetype": "text/x-python",
   "name": "python",
   "nbconvert_exporter": "python",
   "pygments_lexer": "ipython3",
   "version": "3.7.9"
  }
 },
 "nbformat": 4,
 "nbformat_minor": 4
}
