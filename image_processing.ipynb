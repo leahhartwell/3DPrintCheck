{
 "cells": [
  {
   "cell_type": "code",
   "execution_count": 1,
   "metadata": {},
   "outputs": [],
   "source": [
    "import shutil\n",
    "import os\n",
    "from PIL import Image # image conversion\n",
    "import matplotlib.pyplot as plt\n",
    "import numpy as np #downgrade to V1.18.5 <-- tensorflow req\n",
    "from tensorflow.keras.preprocessing import image\n",
    "from tensorflow.keras.utils import to_categorical\n",
    "import tensorflow as tf\n",
    "\n",
    "#CPU Only: use when you GPU is out of memory\n",
    "# os.environ[\"CUDA_VISIBLE_DEVICES\"] = \"-1\"\n",
    "#GPU: only use if GPU isn't working when training \n",
    "physical_devices = tf.config.list_physical_devices(\"GPU\")\n",
    "tf.config.experimental.set_memory_growth(physical_devices[0], True)"
   ]
  },
  {
   "cell_type": "code",
   "execution_count": 2,
   "metadata": {},
   "outputs": [
    {
     "name": "stdout",
     "output_type": "stream",
     "text": [
      "C:\\Users\\hartw\\GitHub\\3DPrintCheck\\failed\\\n",
      "0\n"
     ]
    }
   ],
   "source": [
    "SCRIPT_DIR = os.path.abspath('')\n",
    "DATA_DIR = SCRIPT_DIR + '\\\\failed\\\\'\n",
    "print(DATA_DIR)\n",
    "num_imgs = len(os.listdir(DATA_DIR))\n",
    "print(num_imgs)"
   ]
  },
  {
   "cell_type": "code",
   "execution_count": 34,
   "metadata": {},
   "outputs": [],
   "source": [
    "failed = True"
   ]
  },
  {
   "cell_type": "code",
   "execution_count": 29,
   "metadata": {},
   "outputs": [],
   "source": [
    "#delete files from specified directory \n",
    "DEL_DIR = SCRIPT_DIR + '\\\\renamed_failed'\n",
    "for filename in os.listdir(DEL_DIR):\n",
    "   file = os.path.join(DEL_DIR, filename)\n",
    "   os.unlink(file)"
   ]
  },
  {
   "cell_type": "code",
   "execution_count": 35,
   "metadata": {},
   "outputs": [],
   "source": [
    "#renaming raw images\n",
    "i = 0\n",
    "for fname in os.listdir(DATA_DIR):\n",
    "    print(fname)\n",
    "    old_name = DATA_DIR + fname\n",
    "    if failed == True:   \n",
    "        new_name = SCRIPT_DIR + '\\\\renamed_failed\\\\' + '1_failed_' + str(i) + '.jpg'   \n",
    "    else:\n",
    "        new_name = SCRIPT_DIR + '\\\\renamed_OK\\\\' + '0_OK_' + str(i) + '.jpg'\n",
    "    os.rename(old_name, new_name)\n",
    "    print(new_name)\n",
    "    i = i + 1"
   ]
  },
  {
   "cell_type": "code",
   "execution_count": null,
   "metadata": {},
   "outputs": [],
   "source": [
    "IMG_PATH = 'C:\\Users\\hartw\\GitHub\\3DPrintCheck\\renamed_failed\\1_failed_0.jpg'\n",
    "    img = image.load_img(IMG_PATH)\n",
    "    img_arr = image.img_to_array(img)"
   ]
  },
  {
   "cell_type": "code",
   "execution_count": 24,
   "metadata": {},
   "outputs": [
    {
     "ename": "AttributeError",
     "evalue": "module 'tensorflow._api.v2.image' has no attribute 'load_img'",
     "output_type": "error",
     "traceback": [
      "\u001b[1;31m---------------------------------------------------------------------------\u001b[0m",
      "\u001b[1;31mAttributeError\u001b[0m                            Traceback (most recent call last)",
      "\u001b[1;32m<ipython-input-24-31520a2f9cbc>\u001b[0m in \u001b[0;36m<module>\u001b[1;34m\u001b[0m\n\u001b[0;32m      7\u001b[0m \u001b[1;32mfor\u001b[0m \u001b[0mfname\u001b[0m \u001b[1;32min\u001b[0m \u001b[0mos\u001b[0m\u001b[1;33m.\u001b[0m\u001b[0mlistdir\u001b[0m\u001b[1;33m(\u001b[0m\u001b[0mRENAME_DIR\u001b[0m\u001b[1;33m)\u001b[0m\u001b[1;33m:\u001b[0m\u001b[1;33m\u001b[0m\u001b[1;33m\u001b[0m\u001b[0m\n\u001b[0;32m      8\u001b[0m     \u001b[0mIMG_PATH\u001b[0m \u001b[1;33m=\u001b[0m \u001b[0mRENAME_DIR\u001b[0m \u001b[1;33m+\u001b[0m \u001b[0mfname\u001b[0m\u001b[1;33m\u001b[0m\u001b[1;33m\u001b[0m\u001b[0m\n\u001b[1;32m----> 9\u001b[1;33m     \u001b[0mimage\u001b[0m\u001b[1;33m.\u001b[0m\u001b[0mload_img\u001b[0m\u001b[1;33m(\u001b[0m\u001b[0mIMG_PATH\u001b[0m\u001b[1;33m)\u001b[0m\u001b[1;33m\u001b[0m\u001b[1;33m\u001b[0m\u001b[0m\n\u001b[0m\u001b[0;32m     10\u001b[0m     \u001b[0mimage\u001b[0m\u001b[1;33m.\u001b[0m\u001b[0mresize\u001b[0m\u001b[1;33m(\u001b[0m\u001b[0mIMG_PATH\u001b[0m\u001b[1;33m,\u001b[0m \u001b[1;33m(\u001b[0m\u001b[1;36m200\u001b[0m\u001b[1;33m,\u001b[0m \u001b[1;36m200\u001b[0m\u001b[1;33m)\u001b[0m\u001b[1;33m)\u001b[0m\u001b[1;33m\u001b[0m\u001b[1;33m\u001b[0m\u001b[0m\n\u001b[0;32m     11\u001b[0m     \u001b[0mimage\u001b[0m\u001b[1;33m.\u001b[0m\u001b[0mload_img\u001b[0m\u001b[1;33m(\u001b[0m\u001b[0mIMG_PATH\u001b[0m\u001b[1;33m)\u001b[0m\u001b[1;33m\u001b[0m\u001b[1;33m\u001b[0m\u001b[0m\n",
      "\u001b[1;31mAttributeError\u001b[0m: module 'tensorflow._api.v2.image' has no attribute 'load_img'"
     ]
    }
   ],
   "source": [
    "#resizing renamed images\n",
    "RENAME_DIR = SCRIPT_DIR + '\\\\renamed_failed\\\\'\n",
    "X = []\n",
    "y = []\n",
    "for fname in os.listdir(RENAME_DIR):\n",
    "    IMG_PATH = RENAME_DIR + fname\n",
    "    img = image.load_img(IMG_PATH)\n",
    "    img_arr = image.img_to_array(img)\n",
    "    X.append(img_arr)\n",
    "    \n",
    "    fname_arr = fname.split('_')\n",
    "    label = fname_arr[0]\n",
    "    y.append(label)\n",
    "    \n",
    "X = np.arry(X)\n",
    "y = to_categorial(np.array(y))"
   ]
  },
  {
   "cell_type": "code",
   "execution_count": null,
   "metadata": {},
   "outputs": [],
   "source": []
  }
 ],
 "metadata": {
  "kernelspec": {
   "display_name": "Python 3",
   "language": "python",
   "name": "python3"
  },
  "language_info": {
   "codemirror_mode": {
    "name": "ipython",
    "version": 3
   },
   "file_extension": ".py",
   "mimetype": "text/x-python",
   "name": "python",
   "nbconvert_exporter": "python",
   "pygments_lexer": "ipython3",
   "version": "3.7.9"
  }
 },
 "nbformat": 4,
 "nbformat_minor": 4
}
